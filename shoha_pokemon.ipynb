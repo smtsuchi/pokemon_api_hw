{
 "cells": [
  {
   "cell_type": "code",
   "execution_count": 1,
   "id": "7d083023",
   "metadata": {},
   "outputs": [],
   "source": [
    "import requests as r"
   ]
  },
  {
   "cell_type": "code",
   "execution_count": 2,
   "id": "52f5822a",
   "metadata": {},
   "outputs": [],
   "source": [
    "#  My Pokedex's   (EMPTY DICTIONARIES FOR NOW)\n",
    "by_name = {}\n",
    "by_type = {}\n",
    "\n",
    "def addToPokedex(pokemon):\n",
    "    res = r.get(f'https://pokeapi.co/api/v2/pokemon/{pokemon}')\n",
    "\n",
    "    if res.status_code == 200:\n",
    "        data = res.json()\n",
    "        \n",
    "#         Save by Name\n",
    "        \n",
    "        by_name[data['species']['name']] = {\n",
    "            'abilities': [x['ability']['name'] for x in data['abilities']],\n",
    "            'weight' : data['weight'], \n",
    "            'types' : [x['type']['name'] for x in data['types']]\n",
    "        }\n",
    "\n",
    "        \n",
    "#         Save by Type\n",
    "\n",
    "        for myType in data['types']:\n",
    "            by_type[myType['type']['name']]= by_type.get(myType['type']['name'],{}) # initializing the type dictionary\n",
    "            by_type[myType['type']['name']][data['species']['name']] = {\n",
    "                'abilities': [x['ability']['name'] for x in data['abilities']],\n",
    "                'weight' : data['weight']\n",
    "            }"
   ]
  },
  {
   "cell_type": "code",
   "execution_count": 3,
   "id": "f164f1bb",
   "metadata": {},
   "outputs": [],
   "source": [
    "# Making function calls by hand\n",
    "addToPokedex('pikachu')\n",
    "addToPokedex('bulbasaur')\n",
    "addToPokedex('charmander')\n",
    "\n",
    "# Making function calls through looping\n",
    "my_list=['squirtle', 'caterpie', 'meowth', 'oddish', 'tentacruel']\n",
    "for poke in my_list:\n",
    "    addToPokedex(poke)\n"
   ]
  },
  {
   "cell_type": "code",
   "execution_count": 4,
   "id": "4c8c3d48",
   "metadata": {},
   "outputs": [
    {
     "data": {
      "text/plain": [
       "{'electric': {'pikachu': {'abilities': ['static', 'lightning-rod'],\n",
       "   'weight': 60}},\n",
       " 'grass': {'bulbasaur': {'abilities': ['overgrow', 'chlorophyll'],\n",
       "   'weight': 69},\n",
       "  'oddish': {'abilities': ['chlorophyll', 'run-away'], 'weight': 54}},\n",
       " 'poison': {'bulbasaur': {'abilities': ['overgrow', 'chlorophyll'],\n",
       "   'weight': 69},\n",
       "  'oddish': {'abilities': ['chlorophyll', 'run-away'], 'weight': 54},\n",
       "  'tentacruel': {'abilities': ['clear-body', 'liquid-ooze', 'rain-dish'],\n",
       "   'weight': 550}},\n",
       " 'fire': {'charmander': {'abilities': ['blaze', 'solar-power'], 'weight': 85}},\n",
       " 'water': {'squirtle': {'abilities': ['torrent', 'rain-dish'], 'weight': 90},\n",
       "  'tentacruel': {'abilities': ['clear-body', 'liquid-ooze', 'rain-dish'],\n",
       "   'weight': 550}},\n",
       " 'bug': {'caterpie': {'abilities': ['shield-dust', 'run-away'], 'weight': 29}},\n",
       " 'normal': {'meowth': {'abilities': ['pickup', 'technician', 'unnerve'],\n",
       "   'weight': 42}}}"
      ]
     },
     "execution_count": 4,
     "metadata": {},
     "output_type": "execute_result"
    }
   ],
   "source": [
    "by_type"
   ]
  },
  {
   "cell_type": "code",
   "execution_count": 5,
   "id": "4b349fd9",
   "metadata": {},
   "outputs": [
    {
     "data": {
      "text/plain": [
       "{'pikachu': {'abilities': ['static', 'lightning-rod'],\n",
       "  'weight': 60,\n",
       "  'types': ['electric']},\n",
       " 'bulbasaur': {'abilities': ['overgrow', 'chlorophyll'],\n",
       "  'weight': 69,\n",
       "  'types': ['grass', 'poison']},\n",
       " 'charmander': {'abilities': ['blaze', 'solar-power'],\n",
       "  'weight': 85,\n",
       "  'types': ['fire']},\n",
       " 'squirtle': {'abilities': ['torrent', 'rain-dish'],\n",
       "  'weight': 90,\n",
       "  'types': ['water']},\n",
       " 'caterpie': {'abilities': ['shield-dust', 'run-away'],\n",
       "  'weight': 29,\n",
       "  'types': ['bug']},\n",
       " 'meowth': {'abilities': ['pickup', 'technician', 'unnerve'],\n",
       "  'weight': 42,\n",
       "  'types': ['normal']},\n",
       " 'oddish': {'abilities': ['chlorophyll', 'run-away'],\n",
       "  'weight': 54,\n",
       "  'types': ['grass', 'poison']},\n",
       " 'tentacruel': {'abilities': ['clear-body', 'liquid-ooze', 'rain-dish'],\n",
       "  'weight': 550,\n",
       "  'types': ['water', 'poison']}}"
      ]
     },
     "execution_count": 5,
     "metadata": {},
     "output_type": "execute_result"
    }
   ],
   "source": [
    "by_name"
   ]
  },
  {
   "cell_type": "code",
   "execution_count": 7,
   "id": "f6fc868b",
   "metadata": {},
   "outputs": [
    {
     "name": "stdout",
     "output_type": "stream",
     "text": [
      "Number of Unique Pokemon : 8\n",
      "Number of Unique Poke-Type : 7\n"
     ]
    }
   ],
   "source": [
    "print('Number of Unique Pokemon :', len(by_name))\n",
    "print('Number of Unique Poke-Type :', len(by_type))"
   ]
  },
  {
   "cell_type": "code",
   "execution_count": 8,
   "id": "431ca3ff",
   "metadata": {},
   "outputs": [
    {
     "name": "stdout",
     "output_type": "stream",
     "text": [
      "pikachu\n",
      "bulbasaur\n",
      "charmander\n",
      "squirtle\n",
      "caterpie\n",
      "meowth\n",
      "oddish\n",
      "tentacruel\n"
     ]
    }
   ],
   "source": [
    "for name in by_name:\n",
    "    print(name)"
   ]
  },
  {
   "cell_type": "code",
   "execution_count": 9,
   "id": "25cb4dcb",
   "metadata": {},
   "outputs": [
    {
     "name": "stdout",
     "output_type": "stream",
     "text": [
      "electric\n",
      "grass\n",
      "poison\n",
      "fire\n",
      "water\n",
      "bug\n",
      "normal\n"
     ]
    }
   ],
   "source": [
    "for poke_type in by_type:\n",
    "    print(poke_type)"
   ]
  }
 ],
 "metadata": {
  "kernelspec": {
   "display_name": "Python 3",
   "language": "python",
   "name": "python3"
  },
  "language_info": {
   "codemirror_mode": {
    "name": "ipython",
    "version": 3
   },
   "file_extension": ".py",
   "mimetype": "text/x-python",
   "name": "python",
   "nbconvert_exporter": "python",
   "pygments_lexer": "ipython3",
   "version": "3.8.8"
  }
 },
 "nbformat": 4,
 "nbformat_minor": 5
}
